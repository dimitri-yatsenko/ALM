{
 "cells": [
  {
   "cell_type": "code",
   "execution_count": 1,
   "metadata": {
    "collapsed": false,
    "deletable": true,
    "editable": true
   },
   "outputs": [
    {
     "name": "stdout",
     "output_type": "stream",
     "text": [
      "Populating the interactive namespace from numpy and matplotlib\n"
     ]
    }
   ],
   "source": [
    "%pylab inline"
   ]
  },
  {
   "cell_type": "markdown",
   "metadata": {
    "deletable": true,
    "editable": true
   },
   "source": [
    "# Summary of the Data\n",
    "https://crcns.org/data-sets/motor-cortex/alm-1/about-alm-1\n",
    "\n",
    "https://crcns.org/files/data/alm-1/crcns_alm-1_data_description.pdf"
   ]
  },
  {
   "cell_type": "markdown",
   "metadata": {},
   "source": [
    "# Connect to the database"
   ]
  },
  {
   "cell_type": "code",
   "execution_count": 2,
   "metadata": {
    "collapsed": false,
    "deletable": true,
    "editable": true
   },
   "outputs": [
    {
     "name": "stdout",
     "output_type": "stream",
     "text": [
      "DataJoint 0.5.0 (March 8, 2017)\n",
      "No config file found, using default settings.\n"
     ]
    }
   ],
   "source": [
    "import datajoint as dj\n",
    "import scipy.io as scio\n",
    "import os"
   ]
  },
  {
   "cell_type": "code",
   "execution_count": 3,
   "metadata": {
    "collapsed": false,
    "deletable": true,
    "editable": true
   },
   "outputs": [],
   "source": [
    "dj.config['database.host'] = 'tutorial-db.datajoint.io'\n",
    "dj.config['database.user'] = 'janelia'"
   ]
  },
  {
   "cell_type": "code",
   "execution_count": 4,
   "metadata": {
    "collapsed": false,
    "deletable": true,
    "editable": true
   },
   "outputs": [
    {
     "name": "stdout",
     "output_type": "stream",
     "text": [
      "Please enter DataJoint password: ········\n",
      "Connecting janelia@tutorial-db.datajoint.io:3306\n"
     ]
    }
   ],
   "source": [
    "schema = dj.schema('janelia_alm', locals())"
   ]
  },
  {
   "cell_type": "markdown",
   "metadata": {},
   "source": [
    "# Import Animal and Session data"
   ]
  },
  {
   "cell_type": "code",
   "execution_count": 5,
   "metadata": {
    "collapsed": false,
    "deletable": true,
    "editable": true
   },
   "outputs": [],
   "source": [
    "path = 'data/meta_data_files'\n",
    "\n",
    "@schema\n",
    "class SessionDirectory(dj.Lookup):\n",
    "    definition = \"\"\"\n",
    "    session_file : varchar(255)    \n",
    "    \"\"\"\n",
    "    contents = [[os.path.join(path, f)] for f in os.listdir(path)]\n"
   ]
  },
  {
   "cell_type": "code",
   "execution_count": 6,
   "metadata": {
    "collapsed": false,
    "deletable": true,
    "editable": true
   },
   "outputs": [
    {
     "data": {
      "text/html": [
       "\n",
       "        \n",
       "        <style type=\"text/css\">\n",
       "            .Relation{\n",
       "                border-collapse:collapse;\n",
       "            }\n",
       "            .Relation th{\n",
       "                background: #A0A0A0; color: #ffffff; padding:4px; border:#f0e0e0 1px solid;\n",
       "                font-weight: normal; font-family: monospace; font-size: 75%;\n",
       "            }\n",
       "            .Relation td{\n",
       "                padding:4px; border:#f0e0e0 1px solid; font-size:75%;\n",
       "            }\n",
       "            .Relation tr:nth-child(odd){\n",
       "                background: #ffffff;\n",
       "            }\n",
       "            .Relation tr:nth-child(even){\n",
       "                background: #f3f1ff;\n",
       "            }\n",
       "            /* Tooltip container */\n",
       "            .djtooltip {\n",
       "            }\n",
       "\n",
       "            /* Tooltip text */\n",
       "            .djtooltip .djtooltiptext {\n",
       "                visibility: hidden;\n",
       "                width: 120px;\n",
       "                background-color: black;\n",
       "                color: #fff;\n",
       "                text-align: center;\n",
       "                padding: 5px 0;\n",
       "                border-radius: 6px;\n",
       "\n",
       "                /* Position the tooltip text - see examples below! */\n",
       "                position: absolute;\n",
       "                z-index: 1;\n",
       "            }\n",
       "\n",
       "\n",
       "            #primary {\n",
       "                font-weight: bold;\n",
       "                color: black;\n",
       "            }\n",
       "\n",
       "            #nonprimary {\n",
       "                font-weight: normal;\n",
       "                color: white;\n",
       "            }\n",
       "\n",
       "            /* Show the tooltip text when you mouse over the tooltip container */\n",
       "            .djtooltip:hover .djtooltiptext {\n",
       "                visibility: visible;\n",
       "            }\n",
       "        </style>\n",
       "        \n",
       "        <b></b>\n",
       "            <div style=\"max-height:1000px;max-width:1500px;overflow:auto;\">\n",
       "            <table border=\"1\" class=\"Relation\">\n",
       "                <thead> <tr style=\"text-align: right;\"> <th> <div class=\"djtooltip\">\n",
       "                                <p id=\"primary\">session_file</p>\n",
       "                                <span class=\"djtooltiptext\"></span>\n",
       "                            </div> </th> </tr> </thead>\n",
       "                <tbody> <tr> <td>data/meta_data_files/meta_data_ANM210861_20130701.mat</td></tr><tr><td>data/meta_data_files/meta_data_ANM210861_20130702.mat</td></tr><tr><td>data/meta_data_files/meta_data_ANM210861_20130703.mat</td></tr><tr><td>data/meta_data_files/meta_data_ANM210862_20130626.mat</td></tr><tr><td>data/meta_data_files/meta_data_ANM210862_20130627.mat</td></tr><tr><td>data/meta_data_files/meta_data_ANM210862_20130628.mat</td></tr><tr><td>data/meta_data_files/meta_data_ANM210863_20130626.mat</td> </tr> </tbody>\n",
       "            </table>\n",
       "            <p>...</p>\n",
       "            <p>99 tuples</p></div>\n",
       "            "
      ],
      "text/plain": [
       "*session_file \n",
       "+------------+\n",
       "data/meta_data\n",
       "data/meta_data\n",
       "data/meta_data\n",
       "data/meta_data\n",
       "data/meta_data\n",
       "data/meta_data\n",
       "data/meta_data\n",
       "   ...\n",
       " (99 tuples)"
      ]
     },
     "execution_count": 6,
     "metadata": {},
     "output_type": "execute_result"
    }
   ],
   "source": [
    "SessionDirectory()"
   ]
  },
  {
   "cell_type": "code",
   "execution_count": 7,
   "metadata": {
    "collapsed": false,
    "deletable": true,
    "editable": true
   },
   "outputs": [],
   "source": [
    "@schema\n",
    "class Animal(dj.Imported):\n",
    "    definition = \"\"\"\n",
    "    animal :  int  # animal id \n",
    "    ---\n",
    "    species  : varchar(255)\n",
    "    date_of_birth : date\n",
    "    \"\"\"\n",
    "    \n",
    "    class GeneModification(dj.Part):\n",
    "        definition = \"\"\"\n",
    "        -> Animal\n",
    "        gene_modification : varchar(30)\n",
    "        \"\"\"\n",
    "        \n",
    "    class Strain(dj.Part):\n",
    "        definition = \"\"\"\n",
    "        -> Animal\n",
    "        strain  : varchar(30)\n",
    "        \"\"\"\n",
    "\n",
    "\n",
    "@schema\n",
    "class Session(dj.Imported):\n",
    "    definition = \"\"\"\n",
    "    -> Animal\n",
    "    session : tinyint \n",
    "    ---\n",
    "    session_date   :  date\n",
    "    session_suffix :  char(1) \n",
    "    -> SessionDirectory\n",
    "    UNIQUE INDEX(animal, session_date, session_suffix)\n",
    "    \"\"\"\n",
    "\n",
    "    @property\n",
    "    def key_source(self):\n",
    "        return SessionDirectory()\n",
    "    \n",
    "    def _make_tuples(self, key):        \n",
    "        r = scio.loadmat(key['session_file'], \n",
    "                         struct_as_record=False, squeeze_me=True)['meta_data']\n",
    "        # extract animalID\n",
    "        if not isinstance(r.animalID, str):\n",
    "            r.animalID = r.animalID[0]   # handles errors in data\n",
    "        animal = int(r.animalID[3:])  \n",
    "        key['animal'] = animal\n",
    "        \n",
    "        # insert animal if first time\n",
    "        if not (Animal() & key):\n",
    "            tup = dict(\n",
    "                animal=animal,\n",
    "                species=r.species, \n",
    "                date_of_birth = \"{year}-{month}-{day}\".format(\n",
    "                    year=r.dateOfBirth[0:4], \n",
    "                    month=r.dateOfBirth[4:6], \n",
    "                    day=r.dateOfBirth[6:8]))\n",
    "            Animal().insert1(tup)\n",
    "            if isinstance(r.animalGeneModification, str):\n",
    "                r.animalGeneModification = [r.animalGeneModification]\n",
    "            Animal.GeneModification().insert(\n",
    "                dict(animal=animal, gene_modification=m) for m in r.animalGeneModification)\n",
    "            if isinstance(r.animalStrain, str):\n",
    "                r.animalStrain = [r.animalStrain]\n",
    "            Animal.Strain().insert(\n",
    "                dict(animal=animal, strain=m) for m in r.animalStrain)\n",
    "\n",
    "        tup = key\n",
    "        tup['session'] = len(Session() & dict(animal=animal))+1  \n",
    "        tup['session_date'] = \"{year}-{month}-{day}\".format(\n",
    "                year=r.dateOfExperiment[0:4], \n",
    "                month=r.dateOfExperiment[4:6], \n",
    "                day=r.dateOfExperiment[6:8])\n",
    "        tup['session_suffix'] = os.path.basename(key['session_file']).split('_')[3][8]\n",
    "        self.insert1(tup)        "
   ]
  },
  {
   "cell_type": "code",
   "execution_count": 8,
   "metadata": {
    "collapsed": false,
    "deletable": true,
    "editable": true
   },
   "outputs": [],
   "source": [
    "Session().populate()"
   ]
  },
  {
   "cell_type": "code",
   "execution_count": 9,
   "metadata": {
    "collapsed": false,
    "deletable": true,
    "editable": true
   },
   "outputs": [
    {
     "data": {
      "text/html": [
       "\n",
       "        \n",
       "        <style type=\"text/css\">\n",
       "            .Relation{\n",
       "                border-collapse:collapse;\n",
       "            }\n",
       "            .Relation th{\n",
       "                background: #A0A0A0; color: #ffffff; padding:4px; border:#f0e0e0 1px solid;\n",
       "                font-weight: normal; font-family: monospace; font-size: 75%;\n",
       "            }\n",
       "            .Relation td{\n",
       "                padding:4px; border:#f0e0e0 1px solid; font-size:75%;\n",
       "            }\n",
       "            .Relation tr:nth-child(odd){\n",
       "                background: #ffffff;\n",
       "            }\n",
       "            .Relation tr:nth-child(even){\n",
       "                background: #f3f1ff;\n",
       "            }\n",
       "            /* Tooltip container */\n",
       "            .djtooltip {\n",
       "            }\n",
       "\n",
       "            /* Tooltip text */\n",
       "            .djtooltip .djtooltiptext {\n",
       "                visibility: hidden;\n",
       "                width: 120px;\n",
       "                background-color: black;\n",
       "                color: #fff;\n",
       "                text-align: center;\n",
       "                padding: 5px 0;\n",
       "                border-radius: 6px;\n",
       "\n",
       "                /* Position the tooltip text - see examples below! */\n",
       "                position: absolute;\n",
       "                z-index: 1;\n",
       "            }\n",
       "\n",
       "\n",
       "            #primary {\n",
       "                font-weight: bold;\n",
       "                color: black;\n",
       "            }\n",
       "\n",
       "            #nonprimary {\n",
       "                font-weight: normal;\n",
       "                color: white;\n",
       "            }\n",
       "\n",
       "            /* Show the tooltip text when you mouse over the tooltip container */\n",
       "            .djtooltip:hover .djtooltiptext {\n",
       "                visibility: visible;\n",
       "            }\n",
       "        </style>\n",
       "        \n",
       "        <b></b>\n",
       "            <div style=\"max-height:1000px;max-width:1500px;overflow:auto;\">\n",
       "            <table border=\"1\" class=\"Relation\">\n",
       "                <thead> <tr style=\"text-align: right;\"> <th> <div class=\"djtooltip\">\n",
       "                                <p id=\"primary\">animal</p>\n",
       "                                <span class=\"djtooltiptext\">animal id</span>\n",
       "                            </div></th><th><div class=\"djtooltip\">\n",
       "                                <p id=\"primary\">session</p>\n",
       "                                <span class=\"djtooltiptext\"></span>\n",
       "                            </div></th><th><div class=\"djtooltip\">\n",
       "                                <p id=\"nonprimary\">session_date</p>\n",
       "                                <span class=\"djtooltiptext\"></span>\n",
       "                            </div></th><th><div class=\"djtooltip\">\n",
       "                                <p id=\"nonprimary\">session_suffix</p>\n",
       "                                <span class=\"djtooltiptext\"></span>\n",
       "                            </div></th><th><div class=\"djtooltip\">\n",
       "                                <p id=\"nonprimary\">session_file</p>\n",
       "                                <span class=\"djtooltiptext\"></span>\n",
       "                            </div> </th> </tr> </thead>\n",
       "                <tbody> <tr> <td>210861</td>\n",
       "<td>1</td>\n",
       "<td>2013-07-01</td>\n",
       "<td>.</td>\n",
       "<td>data/meta_data_files/meta_data_ANM210861_20130701.mat</td></tr><tr><td>210861</td>\n",
       "<td>2</td>\n",
       "<td>2013-07-02</td>\n",
       "<td>.</td>\n",
       "<td>data/meta_data_files/meta_data_ANM210861_20130702.mat</td></tr><tr><td>210861</td>\n",
       "<td>3</td>\n",
       "<td>2013-07-03</td>\n",
       "<td>.</td>\n",
       "<td>data/meta_data_files/meta_data_ANM210861_20130703.mat</td></tr><tr><td>210862</td>\n",
       "<td>1</td>\n",
       "<td>2013-06-26</td>\n",
       "<td>.</td>\n",
       "<td>data/meta_data_files/meta_data_ANM210862_20130626.mat</td></tr><tr><td>210862</td>\n",
       "<td>2</td>\n",
       "<td>2013-06-27</td>\n",
       "<td>.</td>\n",
       "<td>data/meta_data_files/meta_data_ANM210862_20130627.mat</td></tr><tr><td>210862</td>\n",
       "<td>3</td>\n",
       "<td>2013-06-28</td>\n",
       "<td>.</td>\n",
       "<td>data/meta_data_files/meta_data_ANM210862_20130628.mat</td></tr><tr><td>210863</td>\n",
       "<td>1</td>\n",
       "<td>2013-06-26</td>\n",
       "<td>.</td>\n",
       "<td>data/meta_data_files/meta_data_ANM210863_20130626.mat</td> </tr> </tbody>\n",
       "            </table>\n",
       "            <p>...</p>\n",
       "            <p>99 tuples</p></div>\n",
       "            "
      ],
      "text/plain": [
       "*animal    *session    session_date   session_suffix session_file  \n",
       "+--------+ +---------+ +------------+ +------------+ +------------+\n",
       "210861     1           2013-07-01     .              data/meta_data\n",
       "210861     2           2013-07-02     .              data/meta_data\n",
       "210861     3           2013-07-03     .              data/meta_data\n",
       "210862     1           2013-06-26     .              data/meta_data\n",
       "210862     2           2013-06-27     .              data/meta_data\n",
       "210862     3           2013-06-28     .              data/meta_data\n",
       "210863     1           2013-06-26     .              data/meta_data\n",
       "   ...\n",
       " (99 tuples)"
      ]
     },
     "execution_count": 9,
     "metadata": {},
     "output_type": "execute_result"
    }
   ],
   "source": [
    "Session()"
   ]
  },
  {
   "cell_type": "code",
   "execution_count": 10,
   "metadata": {
    "collapsed": false,
    "deletable": true,
    "editable": true,
    "scrolled": false
   },
   "outputs": [],
   "source": [
    "@schema\n",
    "class PhotoStim(dj.Imported):\n",
    "    definition = \"\"\"\n",
    "    -> Session\n",
    "    ---\n",
    "    wavelength : decimal(4,1)\n",
    "    \"\"\"\n",
    "    \n",
    "    class Location(dj.Part):\n",
    "        definition = \"\"\"\n",
    "        -> PhotoStim\n",
    "        photostim_loc  : tinyint \n",
    "        ---\n",
    "        area  : varchar(30)\n",
    "        photostim_x   :  decimal(4,2)    # mm\n",
    "        photostim_y   :  decimal(4,2)    # mm \n",
    "        \"\"\"\n",
    "        \n",
    "    class Method(dj.Part):\n",
    "        definition = \"\"\"\n",
    "        -> PhotoStim\n",
    "        photostim_method : varchar(255)\n",
    "        \"\"\"\n",
    "        \n",
    "    def _make_tuples(self, key):\n",
    "        file = (Session() & key).fetch1['session_file']\n",
    "        print(file)\n",
    "            "
   ]
  },
  {
   "cell_type": "code",
   "execution_count": 11,
   "metadata": {
    "collapsed": true,
    "deletable": true,
    "editable": true
   },
   "outputs": [],
   "source": [
    "@schema\n",
    "class Recording(dj.Computed):\n",
    "    definition=\"\"\"\n",
    "    -> Session()\n",
    "    ---\n",
    "    recording_file : varchar(255)\n",
    "    \"\"\"\n",
    "    \n",
    "    def _make_tuples(self, key):\n",
    "        a = (Session() & key).fetch1()\n",
    "        if a['session_suffix']=='.':\n",
    "            a['session_suffix']=''\n",
    "        f = os.path.join(\n",
    "            'data', 'data_structure_ANM{animal:06d}',\n",
    "            'data_structure_ANM{animal:06d}_{short_date}{session_suffix}.mat').format(\n",
    "            **a, short_date=''.join(str(a['session_date']).split('-')))\n",
    "        assert os.path.isfile(f)\n",
    "        self.insert1(dict(key, recording_file=f))"
   ]
  },
  {
   "cell_type": "code",
   "execution_count": 12,
   "metadata": {
    "collapsed": false,
    "deletable": true,
    "editable": true,
    "scrolled": false
   },
   "outputs": [],
   "source": [
    "Recording().populate()"
   ]
  },
  {
   "cell_type": "code",
   "execution_count": 13,
   "metadata": {
    "collapsed": false,
    "deletable": true,
    "editable": true
   },
   "outputs": [
    {
     "data": {
      "text/html": [
       "\n",
       "        \n",
       "        <style type=\"text/css\">\n",
       "            .Relation{\n",
       "                border-collapse:collapse;\n",
       "            }\n",
       "            .Relation th{\n",
       "                background: #A0A0A0; color: #ffffff; padding:4px; border:#f0e0e0 1px solid;\n",
       "                font-weight: normal; font-family: monospace; font-size: 75%;\n",
       "            }\n",
       "            .Relation td{\n",
       "                padding:4px; border:#f0e0e0 1px solid; font-size:75%;\n",
       "            }\n",
       "            .Relation tr:nth-child(odd){\n",
       "                background: #ffffff;\n",
       "            }\n",
       "            .Relation tr:nth-child(even){\n",
       "                background: #f3f1ff;\n",
       "            }\n",
       "            /* Tooltip container */\n",
       "            .djtooltip {\n",
       "            }\n",
       "\n",
       "            /* Tooltip text */\n",
       "            .djtooltip .djtooltiptext {\n",
       "                visibility: hidden;\n",
       "                width: 120px;\n",
       "                background-color: black;\n",
       "                color: #fff;\n",
       "                text-align: center;\n",
       "                padding: 5px 0;\n",
       "                border-radius: 6px;\n",
       "\n",
       "                /* Position the tooltip text - see examples below! */\n",
       "                position: absolute;\n",
       "                z-index: 1;\n",
       "            }\n",
       "\n",
       "\n",
       "            #primary {\n",
       "                font-weight: bold;\n",
       "                color: black;\n",
       "            }\n",
       "\n",
       "            #nonprimary {\n",
       "                font-weight: normal;\n",
       "                color: white;\n",
       "            }\n",
       "\n",
       "            /* Show the tooltip text when you mouse over the tooltip container */\n",
       "            .djtooltip:hover .djtooltiptext {\n",
       "                visibility: visible;\n",
       "            }\n",
       "        </style>\n",
       "        \n",
       "        <b></b>\n",
       "            <div style=\"max-height:1000px;max-width:1500px;overflow:auto;\">\n",
       "            <table border=\"1\" class=\"Relation\">\n",
       "                <thead> <tr style=\"text-align: right;\"> <th> <div class=\"djtooltip\">\n",
       "                                <p id=\"primary\">animal</p>\n",
       "                                <span class=\"djtooltiptext\">animal id</span>\n",
       "                            </div></th><th><div class=\"djtooltip\">\n",
       "                                <p id=\"primary\">session</p>\n",
       "                                <span class=\"djtooltiptext\"></span>\n",
       "                            </div></th><th><div class=\"djtooltip\">\n",
       "                                <p id=\"nonprimary\">recording_file</p>\n",
       "                                <span class=\"djtooltiptext\"></span>\n",
       "                            </div> </th> </tr> </thead>\n",
       "                <tbody> <tr> <td>210861</td>\n",
       "<td>1</td>\n",
       "<td>data/data_structure_ANM210861/data_structure_ANM210861_20130701.mat</td></tr><tr><td>210861</td>\n",
       "<td>2</td>\n",
       "<td>data/data_structure_ANM210861/data_structure_ANM210861_20130702.mat</td></tr><tr><td>210861</td>\n",
       "<td>3</td>\n",
       "<td>data/data_structure_ANM210861/data_structure_ANM210861_20130703.mat</td></tr><tr><td>210862</td>\n",
       "<td>1</td>\n",
       "<td>data/data_structure_ANM210862/data_structure_ANM210862_20130626.mat</td></tr><tr><td>210862</td>\n",
       "<td>2</td>\n",
       "<td>data/data_structure_ANM210862/data_structure_ANM210862_20130627.mat</td></tr><tr><td>210862</td>\n",
       "<td>3</td>\n",
       "<td>data/data_structure_ANM210862/data_structure_ANM210862_20130628.mat</td></tr><tr><td>210863</td>\n",
       "<td>1</td>\n",
       "<td>data/data_structure_ANM210863/data_structure_ANM210863_20130626.mat</td> </tr> </tbody>\n",
       "            </table>\n",
       "            <p>...</p>\n",
       "            <p>99 tuples</p></div>\n",
       "            "
      ],
      "text/plain": [
       "*animal    *session    recording_file\n",
       "+--------+ +---------+ +------------+\n",
       "210861     1           data/data_stru\n",
       "210861     2           data/data_stru\n",
       "210861     3           data/data_stru\n",
       "210862     1           data/data_stru\n",
       "210862     2           data/data_stru\n",
       "210862     3           data/data_stru\n",
       "210863     1           data/data_stru\n",
       "   ...\n",
       " (99 tuples)"
      ]
     },
     "execution_count": 13,
     "metadata": {},
     "output_type": "execute_result"
    }
   ],
   "source": [
    "Recording()"
   ]
  },
  {
   "cell_type": "markdown",
   "metadata": {},
   "source": [
    "# Import units, trials, and spikes"
   ]
  },
  {
   "cell_type": "code",
   "execution_count": 14,
   "metadata": {
    "collapsed": true,
    "deletable": true,
    "editable": true
   },
   "outputs": [],
   "source": [
    "@schema\n",
    "class Unit(dj.Imported):\n",
    "    definition = \"\"\"\n",
    "    -> Recording\n",
    "    unit   :  smallint   # unit number on the array\n",
    "    ---\n",
    "    cell_type : varchar(30)\n",
    "    \"\"\"\n",
    "    \n",
    "    def _make_tuples(self, key):\n",
    "        f = (Recording() & key).fetch1['recording_file']\n",
    "        r = scio.loadmat(f, struct_as_record=False, squeeze_me=True)['obj'].eventSeriesHash\n",
    "        for name, value in zip(r.keyNames, r.value):\n",
    "            tup = key\n",
    "            tup['unit'] = int(name[4:])\n",
    "            tup['cell_type'] = value.cellType if isinstance(value.cellType, str) else ''\n",
    "            self.insert1(tup)\n",
    "    \n",
    "    "
   ]
  },
  {
   "cell_type": "code",
   "execution_count": 15,
   "metadata": {
    "collapsed": false,
    "deletable": true,
    "editable": true
   },
   "outputs": [],
   "source": [
    "Unit().populate()"
   ]
  },
  {
   "cell_type": "code",
   "execution_count": 16,
   "metadata": {
    "collapsed": false,
    "deletable": true,
    "editable": true
   },
   "outputs": [],
   "source": [
    "@schema\n",
    "class Trial(dj.Imported):\n",
    "    definition = \"\"\"\n",
    "    -> Recording\n",
    "    trial  :  int \n",
    "    ---\n",
    "    start_time : double\n",
    "    pole_in_time =null:  double\n",
    "    pole_out_time =null : double\n",
    "    cue_time =null : double\n",
    "    good_trial  : tinyint   # change to bool\n",
    "    photostim_type =null :  tinyint\n",
    "    \"\"\"\n",
    "    \n",
    "    class Type(dj.Part):\n",
    "        definition = \"\"\"\n",
    "        -> Trial\n",
    "        trial_type : varchar(12)\n",
    "        \"\"\"\n",
    "        \n",
    "    def _make_tuples(self, key):\n",
    "        print(key)\n",
    "        f = (Recording() & key).fetch1['recording_file']\n",
    "        obj = scio.loadmat(f, struct_as_record=False, squeeze_me=True)['obj']\n",
    "        names = ['pole_in_time', 'pole_out_time', 'cue_time', 'good_trial', 'photostim_type'];\n",
    "        ttype = Trial.Type()\n",
    "        trial_source = (dict(zip(names, n)) for n in zip(*obj.trialPropertiesHash.value))\n",
    "        for i, trial in enumerate(trial_source, start=1):\n",
    "            self.insert1(dict(key, trial=i, start_time=obj.trialStartTimes[i-1], **trial))\n",
    "            ttype.insert(dict(key, trial=i, trial_type=g) \n",
    "                         for g in obj.trialTypeStr[obj.trialTypeMat[:,i-1]>0])"
   ]
  },
  {
   "cell_type": "code",
   "execution_count": 17,
   "metadata": {
    "collapsed": false,
    "deletable": true,
    "editable": true,
    "scrolled": false
   },
   "outputs": [
    {
     "data": {
      "text/plain": [
       "[]"
      ]
     },
     "execution_count": 17,
     "metadata": {},
     "output_type": "execute_result"
    }
   ],
   "source": [
    "Trial().populate(reserve_jobs=True, suppress_errors=True)"
   ]
  },
  {
   "cell_type": "code",
   "execution_count": 18,
   "metadata": {
    "collapsed": false,
    "deletable": true,
    "editable": true
   },
   "outputs": [],
   "source": [
    "@schema\n",
    "class Spikes(dj.Imported):\n",
    "    definition = \"\"\"\n",
    "    -> Unit\n",
    "    -> Trial\n",
    "    ---\n",
    "    spike_times : longblob    # spikes within trial\n",
    "    \"\"\"\n",
    "    \n",
    "    @property\n",
    "    def key_source(self):\n",
    "        return Recording() & Trial() & Unit()\n",
    "    \n",
    "    def _make_tuples(self, key):\n",
    "        print(key)\n",
    "        f = (Recording() & key).fetch1['recording_file']\n",
    "        obj = scio.loadmat(f, struct_as_record=False, squeeze_me=True)['obj']\n",
    "        for unit_name, value in zip(obj.eventSeriesHash.keyNames, obj.eventSeriesHash.value):\n",
    "            tup = dict(key, unit=int(unit_name[4:]))\n",
    "            self.insert(dict(tup, trial=trial, spike_times=value.eventTimes[value.eventTrials==trial]) \n",
    "                        for trial in set(value.eventTrials))"
   ]
  },
  {
   "cell_type": "code",
   "execution_count": 19,
   "metadata": {
    "collapsed": false,
    "deletable": true,
    "editable": true
   },
   "outputs": [
    {
     "data": {
      "text/html": [
       "\n",
       "        \n",
       "        <style type=\"text/css\">\n",
       "            .Relation{\n",
       "                border-collapse:collapse;\n",
       "            }\n",
       "            .Relation th{\n",
       "                background: #A0A0A0; color: #ffffff; padding:4px; border:#f0e0e0 1px solid;\n",
       "                font-weight: normal; font-family: monospace; font-size: 75%;\n",
       "            }\n",
       "            .Relation td{\n",
       "                padding:4px; border:#f0e0e0 1px solid; font-size:75%;\n",
       "            }\n",
       "            .Relation tr:nth-child(odd){\n",
       "                background: #ffffff;\n",
       "            }\n",
       "            .Relation tr:nth-child(even){\n",
       "                background: #f3f1ff;\n",
       "            }\n",
       "            /* Tooltip container */\n",
       "            .djtooltip {\n",
       "            }\n",
       "\n",
       "            /* Tooltip text */\n",
       "            .djtooltip .djtooltiptext {\n",
       "                visibility: hidden;\n",
       "                width: 120px;\n",
       "                background-color: black;\n",
       "                color: #fff;\n",
       "                text-align: center;\n",
       "                padding: 5px 0;\n",
       "                border-radius: 6px;\n",
       "\n",
       "                /* Position the tooltip text - see examples below! */\n",
       "                position: absolute;\n",
       "                z-index: 1;\n",
       "            }\n",
       "\n",
       "\n",
       "            #primary {\n",
       "                font-weight: bold;\n",
       "                color: black;\n",
       "            }\n",
       "\n",
       "            #nonprimary {\n",
       "                font-weight: normal;\n",
       "                color: white;\n",
       "            }\n",
       "\n",
       "            /* Show the tooltip text when you mouse over the tooltip container */\n",
       "            .djtooltip:hover .djtooltiptext {\n",
       "                visibility: visible;\n",
       "            }\n",
       "        </style>\n",
       "        \n",
       "        <b></b>\n",
       "            <div style=\"max-height:1000px;max-width:1500px;overflow:auto;\">\n",
       "            <table border=\"1\" class=\"Relation\">\n",
       "                <thead> <tr style=\"text-align: right;\"> <th> <div class=\"djtooltip\">\n",
       "                                <p id=\"primary\">animal</p>\n",
       "                                <span class=\"djtooltiptext\">animal id</span>\n",
       "                            </div></th><th><div class=\"djtooltip\">\n",
       "                                <p id=\"primary\">session</p>\n",
       "                                <span class=\"djtooltiptext\"></span>\n",
       "                            </div></th><th><div class=\"djtooltip\">\n",
       "                                <p id=\"primary\">trial</p>\n",
       "                                <span class=\"djtooltiptext\"></span>\n",
       "                            </div></th><th><div class=\"djtooltip\">\n",
       "                                <p id=\"nonprimary\">start_time</p>\n",
       "                                <span class=\"djtooltiptext\"></span>\n",
       "                            </div></th><th><div class=\"djtooltip\">\n",
       "                                <p id=\"nonprimary\">pole_in_time</p>\n",
       "                                <span class=\"djtooltiptext\"></span>\n",
       "                            </div></th><th><div class=\"djtooltip\">\n",
       "                                <p id=\"nonprimary\">pole_out_time</p>\n",
       "                                <span class=\"djtooltiptext\"></span>\n",
       "                            </div></th><th><div class=\"djtooltip\">\n",
       "                                <p id=\"nonprimary\">cue_time</p>\n",
       "                                <span class=\"djtooltiptext\"></span>\n",
       "                            </div></th><th><div class=\"djtooltip\">\n",
       "                                <p id=\"nonprimary\">good_trial</p>\n",
       "                                <span class=\"djtooltiptext\">change to bool</span>\n",
       "                            </div></th><th><div class=\"djtooltip\">\n",
       "                                <p id=\"nonprimary\">photostim_type</p>\n",
       "                                <span class=\"djtooltiptext\"></span>\n",
       "                            </div> </th> </tr> </thead>\n",
       "                <tbody> <tr> <td>210861</td>\n",
       "<td>1</td>\n",
       "<td>1</td>\n",
       "<td>2.292751</td>\n",
       "<td>nan</td>\n",
       "<td>nan</td>\n",
       "<td>nan</td>\n",
       "<td>0</td>\n",
       "<td>0</td></tr><tr><td>210861</td>\n",
       "<td>1</td>\n",
       "<td>2</td>\n",
       "<td>86.126249</td>\n",
       "<td>nan</td>\n",
       "<td>nan</td>\n",
       "<td>nan</td>\n",
       "<td>0</td>\n",
       "<td>0</td></tr><tr><td>210861</td>\n",
       "<td>1</td>\n",
       "<td>3</td>\n",
       "<td>96.384541</td>\n",
       "<td>nan</td>\n",
       "<td>nan</td>\n",
       "<td>nan</td>\n",
       "<td>0</td>\n",
       "<td>0</td></tr><tr><td>210861</td>\n",
       "<td>1</td>\n",
       "<td>4</td>\n",
       "<td>107.036498</td>\n",
       "<td>nan</td>\n",
       "<td>nan</td>\n",
       "<td>nan</td>\n",
       "<td>0</td>\n",
       "<td>0</td></tr><tr><td>210861</td>\n",
       "<td>1</td>\n",
       "<td>5</td>\n",
       "<td>122.004938</td>\n",
       "<td>nan</td>\n",
       "<td>nan</td>\n",
       "<td>nan</td>\n",
       "<td>0</td>\n",
       "<td>0</td></tr><tr><td>210861</td>\n",
       "<td>1</td>\n",
       "<td>6</td>\n",
       "<td>133.34006</td>\n",
       "<td>nan</td>\n",
       "<td>nan</td>\n",
       "<td>nan</td>\n",
       "<td>0</td>\n",
       "<td>0</td></tr><tr><td>210861</td>\n",
       "<td>1</td>\n",
       "<td>7</td>\n",
       "<td>142.877855</td>\n",
       "<td>nan</td>\n",
       "<td>nan</td>\n",
       "<td>nan</td>\n",
       "<td>0</td>\n",
       "<td>0</td> </tr> </tbody>\n",
       "            </table>\n",
       "            <p>...</p>\n",
       "            <p>31439 tuples</p></div>\n",
       "            "
      ],
      "text/plain": [
       "*animal    *session    *trial    start_time     pole_in_time   pole_out_time  cue_time     good_trial     photostim_type\n",
       "+--------+ +---------+ +-------+ +------------+ +------------+ +------------+ +----------+ +------------+ +------------+\n",
       "210861     1           1         2.292751       nan            nan            nan          0              0             \n",
       "210861     1           2         86.126249      nan            nan            nan          0              0             \n",
       "210861     1           3         96.384541      nan            nan            nan          0              0             \n",
       "210861     1           4         107.036498     nan            nan            nan          0              0             \n",
       "210861     1           5         122.004938     nan            nan            nan          0              0             \n",
       "210861     1           6         133.34006      nan            nan            nan          0              0             \n",
       "210861     1           7         142.877855     nan            nan            nan          0              0             \n",
       "   ...\n",
       " (31439 tuples)"
      ]
     },
     "execution_count": 19,
     "metadata": {},
     "output_type": "execute_result"
    }
   ],
   "source": [
    "Trial()"
   ]
  },
  {
   "cell_type": "code",
   "execution_count": 20,
   "metadata": {
    "collapsed": false,
    "deletable": true,
    "editable": true
   },
   "outputs": [
    {
     "data": {
      "text/plain": [
       "[]"
      ]
     },
     "execution_count": 20,
     "metadata": {},
     "output_type": "execute_result"
    }
   ],
   "source": [
    "Spikes().populate(suppress_errors=True, reserve_jobs=True)"
   ]
  },
  {
   "cell_type": "code",
   "execution_count": 21,
   "metadata": {
    "collapsed": false,
    "deletable": true,
    "editable": true
   },
   "outputs": [
    {
     "data": {
      "image/png": "[encoded data removed]",
      "text/plain": [
       "<matplotlib.figure.Figure at 0x7f7d610cbbe0>"
      ]
     },
     "metadata": {},
     "output_type": "display_data"
    }
   ],
   "source": [
    "dj.ERD(schema).draw()"
   ]
  },
  {
   "cell_type": "markdown",
   "metadata": {},
   "source": [
    "# Plot results"
   ]
  },
  {
   "cell_type": "code",
   "execution_count": 22,
   "metadata": {
    "collapsed": false
   },
   "outputs": [],
   "source": [
    "# pick a dataset\n",
    "keys = list((Recording() & Spikes()).fetch.keys())\n",
    "key = keys[30]"
   ]
  },
  {
   "cell_type": "code",
   "execution_count": 23,
   "metadata": {
    "collapsed": false,
    "deletable": true,
    "editable": true
   },
   "outputs": [
    {
     "name": "stdout",
     "output_type": "stream",
     "text": [
      "OrderedDict([('animal', 218457), ('session', 6)])\n",
      "Hits: left 49 right 39 Units:  20\n",
      "...................."
     ]
    },
    {
     "data": {
      "image/png": "[encoded data removed]",
      "text/plain": [
       "<matplotlib.figure.Figure at 0x7f7d2f135278>"
      ]
     },
     "metadata": {},
     "output_type": "display_data"
    }
   ],
   "source": [
    "# plot PSTHs of left (blue) vs right (red) trials\n",
    "print(key)\n",
    "good_trials = (Trial() & key & 'good_trial') - (Trial.Type() & 'trial_type in (\"LickEarly\", \"StimTrials\")')\n",
    "left_trials = good_trials & (Trial.Type() & 'trial_type in (\"HitL\")')\n",
    "right_trials = good_trials & (Trial.Type() & 'trial_type in (\"HitR\")')\n",
    "n_units = len(Unit() & key)\n",
    "print('Hits: left', len(left_trials), 'right', len(right_trials), 'Units: ', n_units)\n",
    "\n",
    "ncols = 4\n",
    "nrows = (n_units + ncols - 1)//ncols\n",
    "pylab.rcParams['figure.figsize'] = (16, 10)\n",
    "\n",
    "f, ax = plt.subplots(nrows, ncols)\n",
    "ax  = ax.flatten()\n",
    "bins = np.linspace(0,6,6)\n",
    "x = (bins[:-1]+bins[1:])/2\n",
    "for i, unit_key in enumerate((Unit() & key).fetch.keys()):\n",
    "    print(end='.')\n",
    "    left = (Trial()*Spikes() & unit_key & left_trials).fetch['start_time', 'spike_times']\n",
    "    if left[0].size:\n",
    "        left = np.concatenate([spikes-start for start, spikes in zip(*left)])\n",
    "        ax[i].hist(left, bins, color='blue', alpha=0.5)\n",
    "    right = (Trial()*Spikes() & unit_key & right_trials).fetch['start_time', 'spike_times']\n",
    "    if right[0].size:\n",
    "        right = np.concatenate([spikes-start for start, spikes in zip(*right)])\n",
    "        ax[i].hist(right, bins, color='red', alpha=0.5)\n",
    "    ax[i].set_title('Unit {unit}'.format(**unit_key))\n",
    "\n",
    "# clear unused axes\n",
    "for i in range(n_units,ncols*nrows):\n",
    "    ax[i].axis('off')\n"
   ]
  },
  {
   "cell_type": "code",
   "execution_count": null,
   "metadata": {
    "collapsed": true
   },
   "outputs": [],
   "source": []
  }
 ],
 "metadata": {
  "kernelspec": {
   "display_name": "Python 3",
   "language": "python",
   "name": "python3"
  },
  "language_info": {
   "codemirror_mode": {
    "name": "ipython",
    "version": 3
   },
   "file_extension": ".py",
   "mimetype": "text/x-python",
   "name": "python",
   "nbconvert_exporter": "python",
   "pygments_lexer": "ipython3",
   "version": "3.5.2"
  }
 },
 "nbformat": 4,
 "nbformat_minor": 2
}
